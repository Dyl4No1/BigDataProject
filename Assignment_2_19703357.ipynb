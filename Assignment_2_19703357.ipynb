{
  "cells": [
    {
      "cell_type": "markdown",
      "metadata": {
        "id": "view-in-github",
        "colab_type": "text"
      },
      "source": [
        "<a href=\"https://colab.research.google.com/github/Dyl4No1/BigDataProject/blob/main/Assignment_2_19703357.ipynb\" target=\"_parent\"><img src=\"https://colab.research.google.com/assets/colab-badge.svg\" alt=\"Open In Colab\"/></a>"
      ]
    },
    {
      "cell_type": "code",
      "execution_count": null,
      "metadata": {
        "colab": {
          "base_uri": "https://localhost:8080/"
        },
        "id": "XTDILNcbEd_G",
        "outputId": "614e0cf8-f02c-4670-82c3-c36654f22950"
      },
      "outputs": [
        {
          "output_type": "stream",
          "name": "stdout",
          "text": [
            "--2023-01-23 23:28:43--  https://bin.equinox.io/c/4VmDzA7iaHb/ngrok-stable-linux-amd64.zip\n",
            "Resolving bin.equinox.io (bin.equinox.io)... 54.237.133.81, 18.205.222.128, 52.202.168.65, ...\n",
            "Connecting to bin.equinox.io (bin.equinox.io)|54.237.133.81|:443... connected.\n",
            "HTTP request sent, awaiting response... 200 OK\n",
            "Length: 13832437 (13M) [application/octet-stream]\n",
            "Saving to: ‘ngrok-stable-linux-amd64.zip’\n",
            "\n",
            "ngrok-stable-linux- 100%[===================>]  13.19M  13.8MB/s    in 1.0s    \n",
            "\n",
            "2023-01-23 23:28:44 (13.8 MB/s) - ‘ngrok-stable-linux-amd64.zip’ saved [13832437/13832437]\n",
            "\n",
            "Archive:  ngrok-stable-linux-amd64.zip\n",
            "  inflating: ngrok                   \n"
          ]
        }
      ],
      "source": [
        "# get spark up and running (do this once when you restart a colab session or it times out)\n",
        "\n",
        "# first, install the jdk\n",
        "!apt-get install openjdk-8-jdk-headless -qq > /dev/null\n",
        "# get spark itself\n",
        "!wget -q http://archive.apache.org/dist/spark/spark-3.1.1/spark-3.1.1-bin-hadoop3.2.tgz\n",
        "\n",
        "# unzip spark\n",
        "!tar xf spark-3.1.1-bin-hadoop3.2.tgz\n",
        "# install findspark so colab notebook sees it\n",
        "!pip install -q findspark\n",
        "\n",
        "# and setup env variable so pyspark works\n",
        "import os\n",
        "os.environ[\"JAVA_HOME\"] = \"/usr/lib/jvm/java-8-openjdk-amd64\"\n",
        "os.environ[\"SPARK_HOME\"] = \"/content/spark-3.1.1-bin-hadoop3.2\"\n",
        "\n",
        "# for using spark UI in colab... this allows tunnel to the UI\n",
        "!wget https://bin.equinox.io/c/4VmDzA7iaHb/ngrok-stable-linux-amd64.zip\n",
        "!unzip ngrok-stable-linux-amd64.zip\n",
        "\n",
        "import findspark\n",
        "findspark.init()"
      ]
    },
    {
      "cell_type": "code",
      "execution_count": null,
      "metadata": {
        "id": "RYaI7y9lGcVF"
      },
      "outputs": [],
      "source": [
        "from pyspark.sql import SparkSession\n",
        "\n",
        "spark = SparkSession.builder\\\n",
        "        .master(\"local\")\\\n",
        "        .appName(\"Colab\")\\\n",
        "        .config('spark.ui.port', '4050')\\\n",
        "        .getOrCreate()"
      ]
    },
    {
      "cell_type": "code",
      "execution_count": null,
      "metadata": {
        "colab": {
          "base_uri": "https://localhost:8080/",
          "height": 240
        },
        "id": "V-5ThNDudeQ7",
        "outputId": "c48568b5-70ee-4b04-dbe3-e3e2d1c73898"
      },
      "outputs": [
        {
          "output_type": "stream",
          "name": "stdout",
          "text": [
            "{\"tunnels\":[],\"uri\":\"/api/tunnels\"}\n"
          ]
        },
        {
          "output_type": "execute_result",
          "data": {
            "text/plain": [
              "<pyspark.sql.session.SparkSession at 0x7f3fd167e9a0>"
            ],
            "text/html": [
              "\n",
              "            <div>\n",
              "                <p><b>SparkSession - in-memory</b></p>\n",
              "                \n",
              "        <div>\n",
              "            <p><b>SparkContext</b></p>\n",
              "\n",
              "            <p><a href=\"http://b3ca31f6e838:4050\">Spark UI</a></p>\n",
              "\n",
              "            <dl>\n",
              "              <dt>Version</dt>\n",
              "                <dd><code>v3.1.1</code></dd>\n",
              "              <dt>Master</dt>\n",
              "                <dd><code>local</code></dd>\n",
              "              <dt>AppName</dt>\n",
              "                <dd><code>Colab</code></dd>\n",
              "            </dl>\n",
              "        </div>\n",
              "        \n",
              "            </div>\n",
              "        "
            ]
          },
          "metadata": {},
          "execution_count": 3
        }
      ],
      "source": [
        "#make spark ui work in colab\n",
        "\n",
        "get_ipython().system_raw('./ngrok http 4050 &')\n",
        "!curl -s http://localhost:4040/api/tunnels\n",
        "spark"
      ]
    },
    {
      "cell_type": "markdown",
      "metadata": {
        "id": "BQgpscuyN3tx"
      },
      "source": []
    },
    {
      "cell_type": "code",
      "execution_count": null,
      "metadata": {
        "id": "KqbATAGMVAsw"
      },
      "outputs": [],
      "source": [
        "import pandas as pd\n",
        "import matplotlib.pyplot as plt\n",
        "import seaborn as sb\n",
        "import numpy as np\n",
        "import pyspark\n",
        "\n",
        "from pyspark.ml.feature import VectorAssembler, VectorIndexer, StringIndexer\n",
        "from pyspark.ml.classification import LinearSVC\n",
        "from pyspark.sql.functions import *\n",
        "from sklearn.model_selection import train_test_split\n",
        "from pyspark.ml.classification import DecisionTreeClassifier,LinearSVC, MultilayerPerceptronClassifier;\n",
        "from pyspark.ml.evaluation import MulticlassClassificationEvaluator\n",
        "from sklearn.metrics import confusion_matrix"
      ]
    },
    {
      "cell_type": "markdown",
      "metadata": {
        "id": "JCk1Eut8Ut9H"
      },
      "source": [
        "# **Task1.1:**\n",
        "# Data Cleaning"
      ]
    },
    {
      "cell_type": "code",
      "execution_count": null,
      "metadata": {
        "colab": {
          "base_uri": "https://localhost:8080/"
        },
        "id": "VqPNrziwTsD4",
        "outputId": "85ad4440-411a-4fc0-8b7b-bd8a42a29034"
      },
      "outputs": [
        {
          "output_type": "stream",
          "name": "stdout",
          "text": [
            "top 10 entries of smlNucplant: \n",
            "+------+--------------------+--------------------+---------------------+--------------------+------------------+------------------+------------------+------------------+------------------+------------------+------------------+------------------+\n",
            "|Status|Power_range_sensor_1|Power_range_sensor_2|Power_range_sensor_3 |Power_range_sensor_4|Pressure _sensor_1|Pressure _sensor_2|Pressure _sensor_3|Pressure _sensor_4|Vibration_sensor_1|Vibration_sensor_2|Vibration_sensor_3|Vibration_sensor_4|\n",
            "+------+--------------------+--------------------+---------------------+--------------------+------------------+------------------+------------------+------------------+------------------+------------------+------------------+------------------+\n",
            "|Normal|              4.5044|              0.7443|                 6.34|              1.9052|           29.5315|            0.8647|            2.2044|             6.048|           14.4659|            21.648|           15.3429|            1.2186|\n",
            "|Normal|              4.4284|              0.9073|               5.6433|              1.6232|           27.5032|            1.4704|            1.9929|            5.9856|           20.8356|            0.0646|           14.8813|            7.3483|\n",
            "|Normal|              4.5291|              1.0199|                6.113|              1.0565|           26.4271|            1.9247|             1.942|            6.7162|            5.3358|           11.0779|           25.0914|            9.2408|\n",
            "|Normal|              5.1727|              1.0007|               7.8589|              0.2765|           25.1576|             2.609|            2.9234|            6.7485|            1.9017|            1.8463|            28.664|            4.0157|\n",
            "|Normal|              5.2258|              0.6125|               7.9504|              0.1547|           24.0765|            3.2113|            4.4563|            5.8411|            0.5077|              9.37|           34.8122|           13.4966|\n",
            "|Normal|              4.8834|              0.5786|               5.6021|              0.5942|           21.0365|            2.6275|            4.3996|            5.3487|            3.6465|            9.3793|           36.2431|            11.124|\n",
            "|Normal|              5.7422|              0.8862|               5.1013|              0.9402|           15.5171|              2.92|            2.7061|            5.0366|            9.1854|            9.1116|           27.3162|            2.8526|\n",
            "|Normal|              6.5076|              0.5438|                7.153|              0.6711|           11.1481|            4.2967|            3.5731|            4.6123|           14.7705|            8.0038|           24.9714|            2.1417|\n",
            "|Normal|               5.625|              0.0403|               7.7087|              0.3214|            8.7975|            2.3293|             4.788|             5.203|            4.3388|            2.4187|           20.9187|            2.1233|\n",
            "|Normal|              4.9942|              0.4092|               6.2604|              0.6931|             6.189|            0.1537|            2.4934|            5.6573|            9.8132|           13.3581|           23.5036|            0.7478|\n",
            "+------+--------------------+--------------------+---------------------+--------------------+------------------+------------------+------------------+------------------+------------------+------------------+------------------+------------------+\n",
            "only showing top 10 rows\n",
            "\n",
            "--------------\n",
            "schema: \n",
            "root\n",
            " |-- Status: string (nullable = true)\n",
            " |-- Power_range_sensor_1: double (nullable = true)\n",
            " |-- Power_range_sensor_2: double (nullable = true)\n",
            " |-- Power_range_sensor_3 : double (nullable = true)\n",
            " |-- Power_range_sensor_4: double (nullable = true)\n",
            " |-- Pressure _sensor_1: double (nullable = true)\n",
            " |-- Pressure _sensor_2: double (nullable = true)\n",
            " |-- Pressure _sensor_3: double (nullable = true)\n",
            " |-- Pressure _sensor_4: double (nullable = true)\n",
            " |-- Vibration_sensor_1: double (nullable = true)\n",
            " |-- Vibration_sensor_2: double (nullable = true)\n",
            " |-- Vibration_sensor_3: double (nullable = true)\n",
            " |-- Vibration_sensor_4: double (nullable = true)\n",
            "\n",
            "full headings: \n"
          ]
        },
        {
          "output_type": "execute_result",
          "data": {
            "text/plain": [
              "Row(Status='Normal', Power_range_sensor_1=4.5044, Power_range_sensor_2=0.7443, Power_range_sensor_3 =6.34, Power_range_sensor_4=1.9052, Pressure _sensor_1=29.5315, Pressure _sensor_2=0.8647, Pressure _sensor_3=2.2044, Pressure _sensor_4=6.048, Vibration_sensor_1=14.4659, Vibration_sensor_2=21.648, Vibration_sensor_3=15.3429, Vibration_sensor_4=1.2186)"
            ]
          },
          "metadata": {},
          "execution_count": 5
        }
      ],
      "source": [
        "smlNucplant = spark.read.csv(\"nuclear_plants_small_dataset.csv\",  inferSchema=True,header=True)\n",
        "\n",
        "print(\"top 10 entries of smlNucplant: \")\n",
        "smlNucplant.show(10)\n",
        "\n",
        "print(\"--------------\")\n",
        "print(\"schema: \")\n",
        "smlNucplant.printSchema()\n",
        "\n",
        "print(\"full headings: \")\n",
        "smlNucplant.head()"
      ]
    },
    {
      "cell_type": "markdown",
      "metadata": {
        "id": "DCENYDJeiucE"
      },
      "source": [
        "Searching for Null values in the dataset:"
      ]
    },
    {
      "cell_type": "code",
      "execution_count": null,
      "metadata": {
        "colab": {
          "base_uri": "https://localhost:8080/"
        },
        "id": "1hcZnkGNWkH9",
        "outputId": "d06e01b9-705d-4936-8438-34d083384da8"
      },
      "outputs": [
        {
          "output_type": "stream",
          "name": "stdout",
          "text": [
            "+------+--------------------+--------------------+---------------------+--------------------+------------------+------------------+------------------+------------------+------------------+------------------+------------------+------------------+\n",
            "|Status|Power_range_sensor_1|Power_range_sensor_2|Power_range_sensor_3 |Power_range_sensor_4|Pressure _sensor_1|Pressure _sensor_2|Pressure _sensor_3|Pressure _sensor_4|Vibration_sensor_1|Vibration_sensor_2|Vibration_sensor_3|Vibration_sensor_4|\n",
            "+------+--------------------+--------------------+---------------------+--------------------+------------------+------------------+------------------+------------------+------------------+------------------+------------------+------------------+\n",
            "|     0|                   0|                   0|                    0|                   0|                 0|                 0|                 0|                 0|                 0|                 0|                 0|                 0|\n",
            "+------+--------------------+--------------------+---------------------+--------------------+------------------+------------------+------------------+------------------+------------------+------------------+------------------+------------------+\n",
            "\n"
          ]
        }
      ],
      "source": [
        "nuclearTemp = smlNucplant.select([count(when(col(c).contains('None') | \\\n",
        "                            col(c).contains('NULL') | \\\n",
        "                            (col(c) == '' ) | \\\n",
        "                            col(c).isNull() | \\\n",
        "                            isnan(c), c \n",
        "                           )).alias(c)\n",
        "                    for c in smlNucplant.columns])\n",
        "nuclearTemp.show()"
      ]
    },
    {
      "cell_type": "markdown",
      "metadata": {
        "id": "Cq_9hZinS_Fm"
      },
      "source": [
        "1.2\n",
        "split by normal and abnormal"
      ]
    },
    {
      "cell_type": "code",
      "execution_count": null,
      "metadata": {
        "colab": {
          "base_uri": "https://localhost:8080/"
        },
        "id": "HyWOT9P2kL7b",
        "outputId": "ac990841-b372-4468-d5bd-92636013a800"
      },
      "outputs": [
        {
          "output_type": "stream",
          "name": "stdout",
          "text": [
            "+------+--------------------+--------------------+---------------------+--------------------+------------------+------------------+------------------+------------------+------------------+------------------+------------------+------------------+\n",
            "|Status|Power_range_sensor_1|Power_range_sensor_2|Power_range_sensor_3 |Power_range_sensor_4|Pressure _sensor_1|Pressure _sensor_2|Pressure _sensor_3|Pressure _sensor_4|Vibration_sensor_1|Vibration_sensor_2|Vibration_sensor_3|Vibration_sensor_4|\n",
            "+------+--------------------+--------------------+---------------------+--------------------+------------------+------------------+------------------+------------------+------------------+------------------+------------------+------------------+\n",
            "|Normal|              4.5044|              0.7443|                 6.34|              1.9052|           29.5315|            0.8647|            2.2044|             6.048|           14.4659|            21.648|           15.3429|            1.2186|\n",
            "|Normal|              4.4284|              0.9073|               5.6433|              1.6232|           27.5032|            1.4704|            1.9929|            5.9856|           20.8356|            0.0646|           14.8813|            7.3483|\n",
            "|Normal|              4.5291|              1.0199|                6.113|              1.0565|           26.4271|            1.9247|             1.942|            6.7162|            5.3358|           11.0779|           25.0914|            9.2408|\n",
            "|Normal|              5.1727|              1.0007|               7.8589|              0.2765|           25.1576|             2.609|            2.9234|            6.7485|            1.9017|            1.8463|            28.664|            4.0157|\n",
            "|Normal|              5.2258|              0.6125|               7.9504|              0.1547|           24.0765|            3.2113|            4.4563|            5.8411|            0.5077|              9.37|           34.8122|           13.4966|\n",
            "+------+--------------------+--------------------+---------------------+--------------------+------------------+------------------+------------------+------------------+------------------+------------------+------------------+------------------+\n",
            "only showing top 5 rows\n",
            "\n",
            "+--------+--------------------+--------------------+---------------------+--------------------+------------------+------------------+------------------+------------------+------------------+------------------+------------------+------------------+\n",
            "|  Status|Power_range_sensor_1|Power_range_sensor_2|Power_range_sensor_3 |Power_range_sensor_4|Pressure _sensor_1|Pressure _sensor_2|Pressure _sensor_3|Pressure _sensor_4|Vibration_sensor_1|Vibration_sensor_2|Vibration_sensor_3|Vibration_sensor_4|\n",
            "+--------+--------------------+--------------------+---------------------+--------------------+------------------+------------------+------------------+------------------+------------------+------------------+------------------+------------------+\n",
            "|Abnormal|              8.4467|              5.8667|               9.1736|             11.6904|            1.1803|            1.4415|            4.3256|            6.4249|            8.3453|           17.5954|           14.1982|           16.2568|\n",
            "|Abnormal|              7.7426|              5.7504|               9.4666|             11.3361|            2.0382|            1.2612|            6.1856|            6.8098|            8.9823|           18.3339|            7.7637|           15.8044|\n",
            "|Abnormal|              7.7426|              5.6149|              10.2393|             11.2692|            5.2864|            1.5143|            6.7682|            6.3428|            7.4222|           10.9209|            1.0247|           26.4669|\n",
            "|Abnormal|              7.3059|              5.7349|              10.2228|             11.4734|            9.4818|            1.8207|            6.8006|            5.5452|            7.2652|            10.884|           20.5033|           16.3306|\n",
            "|Abnormal|               5.874|              5.9592|               9.1791|             11.1758|           10.2951|            1.4392|            8.0166|            4.7337|            3.9511|            3.8588|            7.6437|           18.0754|\n",
            "+--------+--------------------+--------------------+---------------------+--------------------+------------------+------------------+------------------+------------------+------------------+------------------+------------------+------------------+\n",
            "only showing top 5 rows\n",
            "\n"
          ]
        }
      ],
      "source": [
        "## split by Status values\n",
        "nrmDf = smlNucplant.filter(smlNucplant['status'] == 'Normal')\n",
        "nrmDf.show(5)\n",
        "\n",
        "abnrmDf = smlNucplant.filter(smlNucplant['status'] == 'Abnormal')\n",
        "abnrmDf.show(5)"
      ]
    },
    {
      "cell_type": "markdown",
      "metadata": {
        "id": "ImLJJ1DWlbky"
      },
      "source": [
        "Normal"
      ]
    },
    {
      "cell_type": "code",
      "execution_count": null,
      "metadata": {
        "colab": {
          "base_uri": "https://localhost:8080/"
        },
        "id": "8PutPc3wULav",
        "outputId": "5bfb0068-8910-4319-8475-18b552b505a0"
      },
      "outputs": [
        {
          "output_type": "stream",
          "name": "stdout",
          "text": [
            "      Power_range_sensor_1  Power_range_sensor_2  Power_range_sensor_3   \\\n",
            "min               0.085100              0.040300               4.382600   \n",
            "max              12.129800             11.928400              14.098200   \n",
            "mean              5.602453              6.844503               9.292054   \n",
            "50%               5.178650              6.717650               9.262850   \n",
            "\n",
            "      Power_range_sensor_4  Pressure _sensor_1  Pressure _sensor_2  \\\n",
            "min               0.154700            0.024800            0.010400   \n",
            "max              16.356800           56.856200            9.221200   \n",
            "mean              8.701398           13.797526            3.415646   \n",
            "50%               9.240850           10.634800            3.113000   \n",
            "\n",
            "      Pressure _sensor_3  Pressure _sensor_4  Vibration_sensor_1  \\\n",
            "min             0.077400             0.00580            0.009200   \n",
            "max            12.647500            15.10850           31.498100   \n",
            "mean            5.923353             5.58618            8.441437   \n",
            "50%             5.739400             4.25915            7.449900   \n",
            "\n",
            "      Vibration_sensor_2  Vibration_sensor_3  Vibration_sensor_4  \n",
            "min             0.027700            0.064600            0.083100  \n",
            "max            34.867600           53.238400           43.231400  \n",
            "mean            9.699616           19.437804           10.925098  \n",
            "50%             8.700750           16.464500            9.485450  \n"
          ]
        }
      ],
      "source": [
        "## nrmDf minimum, maximum, mean and median values\n",
        "tempDf = nrmDf.toPandas()\n",
        "nrmStat = tempDf.describe().loc[['min','max','mean','50%']]\n",
        "#could do: \n",
        "# df.summary(\"min\",\"max\",\"mean\",\"50%\").show()\n",
        "#for pyspark dataframe\n",
        "\n",
        "print(nrmStat)"
      ]
    },
    {
      "cell_type": "markdown",
      "metadata": {
        "id": "udGP_iu6vYNm"
      },
      "source": [
        "# **Normal Group Boxplots**"
      ]
    },
    {
      "cell_type": "code",
      "execution_count": null,
      "metadata": {
        "colab": {
          "base_uri": "https://localhost:8080/",
          "height": 420
        },
        "id": "J9lZiCd2nN-f",
        "outputId": "0409cb9c-c759-4a9a-9e84-c984046b5b4c"
      },
      "outputs": [
        {
          "output_type": "execute_result",
          "data": {
            "text/plain": [
              "Text(0, 0.5, 'Values')"
            ]
          },
          "metadata": {},
          "execution_count": 9
        },
        {
          "output_type": "display_data",
          "data": {
            "text/plain": [
              "<Figure size 432x288 with 1 Axes>"
            ],
            "image/png": "[encoded data removed]"
          },
          "metadata": {
            "needs_background": "light"
          }
        }
      ],
      "source": [
        "#normal group first features\n",
        "nrmStat.boxplot(column=['Power_range_sensor_1', 'Power_range_sensor_2', 'Power_range_sensor_3 ',  'Power_range_sensor_4', \\\n",
        "                       'Pressure _sensor_1','Pressure _sensor_2', 'Pressure _sensor_3' ,'Pressure _sensor_4', \\\n",
        "                       'Vibration_sensor_1', 'Vibration_sensor_2', 'Vibration_sensor_3', 'Vibration_sensor_4'], fontsize=10, rot=90)\n",
        "\n",
        "##\n",
        "plt.title('Normal Group Feature Boxplots')\n",
        "plt.xlabel('Features')\n",
        "plt.ylabel('Values')\n",
        "##"
      ]
    },
    {
      "cell_type": "markdown",
      "metadata": {
        "id": "WRAnw-XtldW4"
      },
      "source": [
        "Abnormal"
      ]
    },
    {
      "cell_type": "code",
      "execution_count": null,
      "metadata": {
        "colab": {
          "base_uri": "https://localhost:8080/"
        },
        "id": "Ao6hXOklle8o",
        "outputId": "458a3617-bc22-4f62-9e40-64d3d7ec8cb4"
      },
      "outputs": [
        {
          "output_type": "stream",
          "name": "stdout",
          "text": [
            "      Power_range_sensor_1  Power_range_sensor_2  Power_range_sensor_3   \\\n",
            "min               0.008200              0.389100               2.583966   \n",
            "max              10.923078             10.154100              15.759900   \n",
            "mean              4.396695              5.914043               9.164170   \n",
            "50%               4.513550              5.932218               9.472050   \n",
            "\n",
            "      Power_range_sensor_4  Pressure _sensor_1  Pressure _sensor_2  \\\n",
            "min               0.062300            0.131478            0.008262   \n",
            "max              17.235858           67.979400           10.242738   \n",
            "mean              6.009146           14.600728            2.740270   \n",
            "50%               5.399300           12.596150            2.382689   \n",
            "\n",
            "      Pressure _sensor_3  Pressure _sensor_4  Vibration_sensor_1  \\\n",
            "min             0.001224            0.029478            0.000000   \n",
            "max            11.772400           16.555620           36.186438   \n",
            "mean            5.575115            4.407824            7.887689   \n",
            "50%             5.744257            3.322575            6.535950   \n",
            "\n",
            "      Vibration_sensor_2  Vibration_sensor_3  Vibration_sensor_4  \n",
            "min             0.018500            0.131784            0.009200  \n",
            "max            34.331466           36.911454           26.466900  \n",
            "mean           10.303570           10.938159            8.942085  \n",
            "50%             8.973100            8.987269            8.137600  \n"
          ]
        }
      ],
      "source": [
        "## nrmDf minimum, maximum, mean and median values\n",
        "tempDf = abnrmDf.toPandas()\n",
        "abnrmStat = tempDf.describe().loc[['min','max','mean','50%']]\n",
        "print(abnrmStat)"
      ]
    },
    {
      "cell_type": "markdown",
      "metadata": {
        "id": "Y6n8CfUuvUen"
      },
      "source": [
        "# **Abnormal Group Boxplots**"
      ]
    },
    {
      "cell_type": "code",
      "execution_count": null,
      "metadata": {
        "colab": {
          "base_uri": "https://localhost:8080/",
          "height": 420
        },
        "id": "TZNAxSUFl1k9",
        "outputId": "ccfb964f-0ac2-485e-c622-a5a98b56a690"
      },
      "outputs": [
        {
          "output_type": "execute_result",
          "data": {
            "text/plain": [
              "Text(0, 0.5, 'Values')"
            ]
          },
          "metadata": {},
          "execution_count": 11
        },
        {
          "output_type": "display_data",
          "data": {
            "text/plain": [
              "<Figure size 432x288 with 1 Axes>"
            ],
            "image/png": "[encoded data removed]"
          },
          "metadata": {
            "needs_background": "light"
          }
        }
      ],
      "source": [
        "#abnormal group features\n",
        "abnrmStat.boxplot(column=['Power_range_sensor_1', 'Power_range_sensor_2', 'Power_range_sensor_3 ',  'Power_range_sensor_4', \\\n",
        "                       'Pressure _sensor_1','Pressure _sensor_2', 'Pressure _sensor_3' ,'Pressure _sensor_4', \\\n",
        "                       'Vibration_sensor_1', 'Vibration_sensor_2', 'Vibration_sensor_3', 'Vibration_sensor_4'], fontsize=10, rot=90)\n",
        "##\n",
        "plt.title('Abnormal Group Feature Boxplots')\n",
        "plt.xlabel('Features')\n",
        "plt.ylabel('Values')\n",
        "##"
      ]
    },
    {
      "cell_type": "markdown",
      "metadata": {
        "id": "n4W4TGNZPJhy"
      },
      "source": [
        "#**Task1.3 Correlation matrix**"
      ]
    },
    {
      "cell_type": "code",
      "execution_count": null,
      "metadata": {
        "colab": {
          "base_uri": "https://localhost:8080/",
          "height": 829
        },
        "id": "y_dPr6VGg0ir",
        "outputId": "f2daa8a6-9e2b-4ef7-e9d0-56f059dde1e9"
      },
      "outputs": [
        {
          "output_type": "execute_result",
          "data": {
            "text/plain": [
              "<matplotlib.axes._subplots.AxesSubplot at 0x7f3fc1a40580>"
            ]
          },
          "metadata": {},
          "execution_count": 12
        },
        {
          "output_type": "display_data",
          "data": {
            "text/plain": [
              "<Figure size 1152x864 with 2 Axes>"
            ],
            "image/png": "[encoded data removed]"
          },
          "metadata": {
            "needs_background": "light"
          }
        }
      ],
      "source": [
        "# correlation matrix, with corr coefficient of two features\n",
        "smlNucplant.drop('Status')\n",
        "matrixDf = smlNucplant.toPandas()\n",
        "\n",
        "# create correlation matrix for matrixDf\n",
        "corrMatrix = matrixDf.corr(method='pearson')\n",
        "\n",
        "#make the below heatmap bigger\n",
        "plt.figure(figsize=(16,12))\n",
        "#seaborn heatmap (to make it look nice)\n",
        "sb.heatmap(corrMatrix, annot=True, annot_kws={\"size\": 10}, cmap=\"Blues\", fmt=\".4f\")"
      ]
    },
    {
      "cell_type": "markdown",
      "metadata": {
        "id": "E-PJ-bVjQDNu"
      },
      "source": [
        "#**Task1.4 Split and Shuffle**"
      ]
    },
    {
      "cell_type": "code",
      "execution_count": null,
      "metadata": {
        "colab": {
          "base_uri": "https://localhost:8080/"
        },
        "id": "91pmM_qPLDDg",
        "outputId": "8fb3d21d-09f8-470e-884d-c93fd4976ade"
      },
      "outputs": [
        {
          "output_type": "stream",
          "name": "stdout",
          "text": [
            "+------+--------------------+--------------------+---------------------+--------------------+------------------+------------------+------------------+------------------+------------------+------------------+------------------+------------------+--------------------+\n",
            "|Status|Power_range_sensor_1|Power_range_sensor_2|Power_range_sensor_3 |Power_range_sensor_4|Pressure _sensor_1|Pressure _sensor_2|Pressure _sensor_3|Pressure _sensor_4|Vibration_sensor_1|Vibration_sensor_2|Vibration_sensor_3|Vibration_sensor_4|            features|\n",
            "+------+--------------------+--------------------+---------------------+--------------------+------------------+------------------+------------------+------------------+------------------+------------------+------------------+------------------+--------------------+\n",
            "|Normal|              4.5044|              0.7443|                 6.34|              1.9052|           29.5315|            0.8647|            2.2044|             6.048|           14.4659|            21.648|           15.3429|            1.2186|[4.5044,0.7443,6....|\n",
            "|Normal|              4.4284|              0.9073|               5.6433|              1.6232|           27.5032|            1.4704|            1.9929|            5.9856|           20.8356|            0.0646|           14.8813|            7.3483|[4.4284,0.9073,5....|\n",
            "|Normal|              4.5291|              1.0199|                6.113|              1.0565|           26.4271|            1.9247|             1.942|            6.7162|            5.3358|           11.0779|           25.0914|            9.2408|[4.5291,1.0199,6....|\n",
            "|Normal|              5.1727|              1.0007|               7.8589|              0.2765|           25.1576|             2.609|            2.9234|            6.7485|            1.9017|            1.8463|            28.664|            4.0157|[5.1727,1.0007,7....|\n",
            "|Normal|              5.2258|              0.6125|               7.9504|              0.1547|           24.0765|            3.2113|            4.4563|            5.8411|            0.5077|              9.37|           34.8122|           13.4966|[5.2258,0.6125,7....|\n",
            "|Normal|              4.8834|              0.5786|               5.6021|              0.5942|           21.0365|            2.6275|            4.3996|            5.3487|            3.6465|            9.3793|           36.2431|            11.124|[4.8834,0.5786,5....|\n",
            "|Normal|              5.7422|              0.8862|               5.1013|              0.9402|           15.5171|              2.92|            2.7061|            5.0366|            9.1854|            9.1116|           27.3162|            2.8526|[5.7422,0.8862,5....|\n",
            "|Normal|              6.5076|              0.5438|                7.153|              0.6711|           11.1481|            4.2967|            3.5731|            4.6123|           14.7705|            8.0038|           24.9714|            2.1417|[6.5076,0.5438,7....|\n",
            "|Normal|               5.625|              0.0403|               7.7087|              0.3214|            8.7975|            2.3293|             4.788|             5.203|            4.3388|            2.4187|           20.9187|            2.1233|[5.625,0.0403,7.7...|\n",
            "|Normal|              4.9942|              0.4092|               6.2604|              0.6931|             6.189|            0.1537|            2.4934|            5.6573|            9.8132|           13.3581|           23.5036|            0.7478|[4.9942,0.4092,6....|\n",
            "+------+--------------------+--------------------+---------------------+--------------------+------------------+------------------+------------------+------------------+------------------+------------------+------------------+------------------+--------------------+\n",
            "only showing top 10 rows\n",
            "\n"
          ]
        }
      ],
      "source": [
        "## transforming the whole dataset into a vector for machine learning aspects\n",
        "\n",
        "assembler = VectorAssembler(\n",
        "    inputCols=['Power_range_sensor_1', 'Power_range_sensor_2', 'Power_range_sensor_3 ',  'Power_range_sensor_4', \\\n",
        "                       'Pressure _sensor_1','Pressure _sensor_2', 'Pressure _sensor_3' ,'Pressure _sensor_4', \\\n",
        "                       'Vibration_sensor_1', 'Vibration_sensor_2', 'Vibration_sensor_3', 'Vibration_sensor_4'],\n",
        "    outputCol=\"features\")\n",
        "\n",
        "vecOutput = assembler.transform(smlNucplant)\n",
        "vecOutput.show(10)"
      ]
    },
    {
      "cell_type": "code",
      "execution_count": null,
      "metadata": {
        "id": "rIx1tnCaW9aK"
      },
      "outputs": [],
      "source": [
        "## creating labelIndexer with stringindexer\n",
        "labelIndexer = StringIndexer(inputCol=\"Status\", outputCol=\"labelIndex\")\n",
        "\n",
        "dataIndexed = labelIndexer.fit(vecOutput).transform(vecOutput)"
      ]
    },
    {
      "cell_type": "code",
      "execution_count": null,
      "metadata": {
        "colab": {
          "base_uri": "https://localhost:8080/"
        },
        "id": "s9VmW96pksoi",
        "outputId": "6c6b73d8-7e98-4cb9-9cf3-c0eedb834248"
      },
      "outputs": [
        {
          "output_type": "stream",
          "name": "stdout",
          "text": [
            "701\n",
            "295\n"
          ]
        }
      ],
      "source": [
        "#train test split 70%:30%\n",
        "randOrder = dataIndexed.orderBy(rand())\n",
        "\n",
        "##assign train and test sets by shuffled order\n",
        "[randSplitTraining, randSplitTesting] = randOrder.randomSplit([0.7,0.3], seed=1234)\n",
        "\n",
        "print(randSplitTraining.count())\n",
        "print(randSplitTesting.count())"
      ]
    },
    {
      "cell_type": "markdown",
      "metadata": {
        "id": "-SIWrk7EUNPC"
      },
      "source": [
        "#**Task1.5 Decision Tree, SVM and ANN**"
      ]
    },
    {
      "cell_type": "code",
      "execution_count": null,
      "metadata": {
        "id": "7VHzgdSfZo49"
      },
      "outputs": [],
      "source": [
        "def funcConfMatrix (funcInput ):\n",
        "  \n",
        "  # evaluate\n",
        "  evaluator = MulticlassClassificationEvaluator(labelCol = \"labelIndex\",\\\n",
        "                                                predictionCol = \"prediction\",\\\n",
        "                                                metricName = \"accuracy\")\n",
        "  funcAcc = evaluator.evaluate(funcInput)\n",
        "    \n",
        "  # set variables for confusion matrix\n",
        "  CMPred= funcInput.select(\"prediction\").collect()\n",
        "  CMOrig= funcInput.select(\"labelIndex\").collect()\n",
        "\n",
        "  # create and print confusion matrix\n",
        "  confusionMatrix = confusion_matrix(CMOrig, CMPred)\n",
        "  print(\"Confusion Matrix: \", \"\\n\", confusionMatrix, \"\\n\")\n",
        "\n",
        "  # Map for analysis variables\n",
        "  tp = confusionMatrix[0][0]\n",
        "  fp = confusionMatrix[1][0]\n",
        "  fn = confusionMatrix[0][1]\n",
        "  tn = confusionMatrix[1][1]\n",
        "\n",
        "\n",
        "\n",
        "  # print preparation\n",
        "  errorRate = 1 - ((tp+tn) /(tp+fp+tn+fn))\n",
        "  sensitivityRate = tp / (tp+fn)\n",
        "  specificity = tn / (tn + fp)\n",
        "\n",
        "  # function output\n",
        "  print(\"pred accuracy: \", funcAcc, \"\\n---------------------------------\")\n",
        "  print(\"\\n Error Rate (to 5d.p.): \", errorRate.round(5))\n",
        "  print(\"\\n Sensitivity (to 5d.p.): \", sensitivityRate.round(5))\n",
        "  print(\"\\n Specificity (to 5d.p.): \", specificity.round(5))"
      ]
    },
    {
      "cell_type": "markdown",
      "metadata": {
        "id": "bTZ8Rz37UWTr"
      },
      "source": [
        "Decision Tree"
      ]
    },
    {
      "cell_type": "code",
      "execution_count": null,
      "metadata": {
        "colab": {
          "base_uri": "https://localhost:8080/"
        },
        "id": "fg_ud6j3R4Ld",
        "outputId": "ece6f17a-0bad-4a39-c64d-645a0d03cf2f"
      },
      "outputs": [
        {
          "output_type": "stream",
          "name": "stdout",
          "text": [
            "Confusion Matrix:  \n",
            " [[132  27]\n",
            " [ 15 121]] \n",
            "\n",
            "pred accuracy:  0.8576271186440678 \n",
            "---------------------------------\n",
            "\n",
            " Error Rate (to 5d.p.):  0.14237\n",
            "\n",
            " Sensitivity (to 5d.p.):  0.83019\n",
            "\n",
            " Specificity (to 5d.p.):  0.88971\n"
          ]
        }
      ],
      "source": [
        "# define classifier and fit tree\n",
        "decisionTree = DecisionTreeClassifier(labelCol = \"labelIndex\", featuresCol = \"features\")\n",
        "dTreeTrain = decisionTree.fit(randSplitTraining)\n",
        "\n",
        "# set predictions for Correlation Matrix function\n",
        "dTreePred = dTreeTrain.transform(randSplitTesting)\n",
        "\n",
        "#Call Conf Matrix Function\n",
        "funcConfMatrix(dTreePred)"
      ]
    },
    {
      "cell_type": "markdown",
      "metadata": {
        "id": "GaETpGNYlw6n"
      },
      "source": [
        "Support Vector Machine"
      ]
    },
    {
      "cell_type": "code",
      "execution_count": null,
      "metadata": {
        "colab": {
          "base_uri": "https://localhost:8080/"
        },
        "id": "XuuFEKROlk0U",
        "outputId": "8fcf3df0-5a02-4cf9-88e0-24b43485f6c1"
      },
      "outputs": [
        {
          "output_type": "stream",
          "name": "stdout",
          "text": [
            "Confusion Matrix:  \n",
            " [[125  34]\n",
            " [ 28 108]] \n",
            "\n",
            "pred accuracy:  0.7898305084745763 \n",
            "---------------------------------\n",
            "\n",
            " Error Rate (to 5d.p.):  0.21017\n",
            "\n",
            " Sensitivity (to 5d.p.):  0.78616\n",
            "\n",
            " Specificity (to 5d.p.):  0.79412\n"
          ]
        }
      ],
      "source": [
        "## define model and create train dataset\n",
        "svm = LinearSVC(labelCol = \"labelIndex\", featuresCol = \"features\", maxIter=100)\n",
        "svmTrain = svm.fit(randSplitTraining)\n",
        "\n",
        "# make dataset fit andcomply with fucntion requirements\n",
        "svmPred = svm.fit(randSplitTesting).transform(randSplitTesting)\n",
        "\n",
        "# Call Conf Matrix function\n",
        "funcConfMatrix(svmPred)\n"
      ]
    },
    {
      "cell_type": "markdown",
      "metadata": {
        "id": "KNF3pEXhpQ9u"
      },
      "source": [
        "Artificial Neural Network"
      ]
    },
    {
      "cell_type": "code",
      "execution_count": null,
      "metadata": {
        "colab": {
          "base_uri": "https://localhost:8080/"
        },
        "id": "Yt_7PXgKOJBC",
        "outputId": "91a8b333-32a4-4406-b778-69e337afc8a9"
      },
      "outputs": [
        {
          "output_type": "stream",
          "name": "stdout",
          "text": [
            "Confusion Matrix:  \n",
            " [[140  19]\n",
            " [ 36 100]] \n",
            "\n",
            "pred accuracy:  0.8135593220338984 \n",
            "---------------------------------\n",
            "\n",
            " Error Rate (to 5d.p.):  0.18644\n",
            "\n",
            " Sensitivity (to 5d.p.):  0.8805\n",
            "\n",
            " Specificity (to 5d.p.):  0.73529\n"
          ]
        }
      ],
      "source": [
        "# definte model and fit training dataset\n",
        "mlp = MultilayerPerceptronClassifier(labelCol = \"labelIndex\", featuresCol = \"features\", maxIter=100, layers=[12, 6, 6, 2], seed=1234)\n",
        "mlpModel = mlp.fit(randSplitTraining)\n",
        "\n",
        "# make dataset fit andcomply with fucntion requirements\n",
        "mlpPred = mlp.fit(randSplitTesting).transform(randSplitTesting)\n",
        "\n",
        "# call Conf Matrix function\n",
        "funcConfMatrix(mlpPred)"
      ]
    },
    {
      "cell_type": "markdown",
      "metadata": {
        "id": "_vuosFoS2S2R"
      },
      "source": [
        "# **Task 2 - MapReduce for Margie Travel dataset**"
      ]
    },
    {
      "cell_type": "markdown",
      "metadata": {
        "id": "_Uc-EizG2n65"
      },
      "source": [
        "Write a Python code, must use MapReduce in Pyspark, to accomplish the following:\n",
        "\n",
        "2.1-\tDetermine the number of flights from each airport; include a list of any airports not used.\n",
        "\n",
        "2.2-\tCreate a list of flights based on the Flight id, this output should include number of passengers, relevant IATA/FAA codes, and departure and arrival times (times converted to HH:MM format).\n",
        "\n",
        "2.3-\tCalculate the line-of-sight (nautical) miles for each flight and the total travelled by each passenger and thus output the passenger having earned the highest air miles.\n",
        "\n",
        "\n",
        "- **AComp_Passenger_data.csv**: there are various errors in this data file, which illustrate a range of potential errors that could occur when handling large scale data from multiple, sometimes unreliable, sources. It is not necessary to handle this file and address these errors in your application. This file is instead provided to highlight the requirement of error handling in MapReduce applications.\n",
        "- **AComp_Passenger_data_no_error_DateTime.csv**: it may use to convert date/time data from Unix epoch time to a human readable format for use when debugging and for validation purposes.\n"
      ]
    },
    {
      "cell_type": "markdown",
      "metadata": {
        "id": "_-ZAsxdA3t8q"
      },
      "source": [
        "2.1"
      ]
    },
    {
      "cell_type": "code",
      "execution_count": null,
      "metadata": {
        "id": "v3BToBVqD73t"
      },
      "outputs": [],
      "source": [
        "spark.sparkContext.stop()\n",
        "conf = pyspark.SparkConf().setAppName(\"MapReduce\").setMaster(\"local\")\n",
        "sc = pyspark.SparkContext(conf = conf)"
      ]
    },
    {
      "cell_type": "code",
      "source": [
        "def notIncluded(x):\n",
        "  # print(x)\n",
        "  ## map builds recursively return x if not in departures\n",
        "  if x not in listReduced_pD:\n",
        "    return x\n",
        "  else:\n",
        "    pass\n",
        "      "
      ],
      "metadata": {
        "id": "HmhNCeBndJY2"
      },
      "execution_count": null,
      "outputs": []
    },
    {
      "cell_type": "code",
      "execution_count": null,
      "metadata": {
        "colab": {
          "base_uri": "https://localhost:8080/"
        },
        "id": "COpj1W_ff2J9",
        "outputId": "365140b1-3339-48b4-b48b-988ad0410152"
      },
      "outputs": [
        {
          "output_type": "stream",
          "name": "stdout",
          "text": [
            "Airport DEN has appeared 3 times\n",
            "Airport JFK has appeared 1 times\n",
            "Airport ORD has appeared 2 times\n",
            "Airport KUL has appeared 2 times\n",
            "Airport MAD has appeared 1 times\n",
            "Airport LHR has appeared 1 times\n",
            "Airport CGK has appeared 2 times\n",
            "Airport MUC has appeared 1 times\n",
            "Airport AMS has appeared 1 times\n",
            "Airport DFW has appeared 1 times\n",
            "Airport MIA has appeared 1 times\n",
            "Airport CDG has appeared 1 times\n",
            "Airport CAN has appeared 2 times\n",
            "Airport IAH has appeared 2 times\n",
            "Airport LAS has appeared 1 times\n",
            "Airport CLT has appeared 1 times\n",
            "Airport ATL has appeared 2 times\n",
            "Airport PVG has appeared 1 times\n",
            "Airport FCO has appeared 1 times\n",
            "Airport BKK has appeared 1 times\n",
            "Airport PEK has appeared 1 times\n",
            "Airport HND has appeared 1 times\n",
            "Below is a list of airports that have no flights: \n",
            "['LAX', 'FRA', 'HKG', 'DXB', 'SIN', 'SFO', 'PHX', 'IST']\n"
          ]
        }
      ],
      "source": [
        "#########\n",
        "## 2.1 ##\tDetermine the number of flights from each airport; include a list of any airports not used.\n",
        "#########\n",
        "\n",
        "## create list of headers for pandas dataframe\n",
        "columns1 = ['PassengerID', 'FlightID', 'fromAirport', 'toAirport', 'timeOfDeparture', 'flightTime']\n",
        "columns2 = ['airportName', 'airportCode', 'Latitude', 'Longitude']\n",
        "## apply columns variables for heading in pd dataframes\n",
        "passengerData = pd.read_csv(\"AComp_Passenger_data_no_error.csv\", encoding = 'latin1', names = columns1)\n",
        "airportCoords = pd.read_csv(\"Top30_airports_LatLong.csv\", encoding = 'latin1', names = columns2)\n",
        "\n",
        "## list comprehension for datasets\n",
        "uniqueFlights = [x for x in passengerData['FlightID']]\n",
        "dep_airportCodes = [y for y in passengerData['fromAirport']]\n",
        "arr_airportCodes = [i for i in passengerData['toAirport']]\n",
        "top30 = [x for x in airportCoords['airportCode']]\n",
        "\n",
        "## convert dataframe to list:\n",
        "list_passengerData = passengerData.values.tolist()\n",
        "rdd_pD = sc.parallelize(list_passengerData)\n",
        "\n",
        "## take 2 columns and count\n",
        "passMapped_pD = rdd_pD.map( lambda x : ((x[1], x[2]), 1 ))\n",
        "\n",
        "## reduce to collate data entries to find count of occurences\n",
        "reduced_pD = passMapped_pD.reduceByKey(lambda x1, x2 : x1 + x2)\n",
        "\n",
        "##  to be ued later with func call\n",
        "top30_rDD = sc.parallelize(top30)\n",
        "\n",
        "## map to get each flight, then reduce to merge counts\n",
        "airportMapped_pD = reduced_pD.map(lambda x : (x[0][1], 1))\n",
        "airportReduced_pD = airportMapped_pD.reduceByKey(lambda x1, x2 : x1 + x2)\n",
        "\n",
        "## create list for comparison of included coordinates\n",
        "listReduced_pD = [x[0] for x in airportReduced_pD.collect()] ## to be used in function \n",
        "\n",
        "## map of function call, all codes in dataset = None, filter != None values\n",
        "airportNotused = top30_rDD.map(notIncluded)\n",
        "airportReducedAgain = airportNotused.filter(lambda x: x != None)\n",
        "\n",
        "## final result:\n",
        "for i in airportReduced_pD.collect():\n",
        "  ## output airport count\n",
        "  print(f'Airport {i[0]} has appeared {i[1]} times')\n",
        "## output flights not included\n",
        "print(f'Below is a list of airports that have no flights: \\n{airportReducedAgain.collect()}')"
      ]
    },
    {
      "cell_type": "code",
      "source": [
        "from datetime import datetime, timedelta\n",
        "def convertTime (x):\n",
        "\n",
        "  ## convert unix Epoch to utc standard time\n",
        "  if len(str(x))  > 4:  #unix epoch code\n",
        "    return datetime.utcfromtimestamp(x).strftime('%H:%M')\n",
        "\n",
        "def convertTimeDelta (x, y):\n",
        "\n",
        "  ## timedelta to find out arrival time\n",
        "  return (datetime.utcfromtimestamp(x) + timedelta(minutes = y)).strftime('%H:%M')"
      ],
      "metadata": {
        "id": "iGYfRPpT2cOv"
      },
      "execution_count": null,
      "outputs": []
    },
    {
      "cell_type": "code",
      "source": [
        "#########\n",
        "## 2.2 ##\tCreate a list of flights based on the Flight id, this output should include number of passengers,\n",
        "######### relevant IATA/FAA codes, and departure and arrival times (times converted to HH:MM format).\n",
        "\n",
        "## unix epoch time\n",
        "passengerDep_dT = passengerData['timeOfDeparture']\n",
        "## time in minutes\n",
        "passengerDep_fT = passengerData['flightTime']\n",
        "\n",
        "## map by columns, with count outside of tuple.\n",
        "task2 = rdd_pD.map(lambda x : ( (x[1], x[2], x[3], convertTime(x[4]), convertTimeDelta(x[4],x[5])), 1) )\n",
        "## reduce to group all similar entries; increasing count\n",
        "task2Reduced = task2.reduceByKey(lambda x1 , x2 : x1 + x2)\n",
        "\n",
        "## final result: \n",
        "for i in task2Reduced.collect():\n",
        "  #print(i)      ## for raw output\n",
        "  print(f'Flight {i[0][0]} departs from {i[0][1]} at {i[0][3]}, arriving at {i[0][2]} at {i[0][4]}, with {i[1]} passengers.')"
      ],
      "metadata": {
        "colab": {
          "base_uri": "https://localhost:8080/"
        },
        "id": "t_SqzLAmvIvA",
        "outputId": "edcb1dbd-6f63-44ed-b75c-2ebb99b1cf41"
      },
      "execution_count": null,
      "outputs": [
        {
          "output_type": "stream",
          "name": "stdout",
          "text": [
            "Flight SQU6245R departs from DEN at 17:14, arriving at FRA at 10:43, with 21 passengers.\n",
            "Flight XXQ4064B departs from JFK at 17:05, arriving at FRA at 06:27, with 25 passengers.\n",
            "Flight SOH3431A departs from ORD at 17:00, arriving at MIA at 21:10, with 18 passengers.\n",
            "Flight PME8178S departs from DEN at 17:13, arriving at PEK at 15:15, with 18 passengers.\n",
            "Flight MBA8071P departs from KUL at 17:04, arriving at PEK at 02:36, with 16 passengers.\n",
            "Flight MOO1786A departs from MAD at 16:56, arriving at FRA at 20:00, with 13 passengers.\n",
            "Flight HUR0974O departs from DEN at 17:15, arriving at PVG at 16:33, with 7 passengers.\n",
            "Flight GMO5938W departs from LHR at 17:11, arriving at PEK at 10:48, with 25 passengers.\n",
            "Flight DAU2617A departs from CGK at 17:23, arriving at SFO at 23:34, with 12 passengers.\n",
            "Flight RUM0422W departs from MUC at 16:58, arriving at MAD at 20:12, with 14 passengers.\n",
            "Flight ATT7791R departs from AMS at 17:13, arriving at DEN at 09:54, with 15 passengers.\n",
            "Flight WPW9201U departs from DFW at 17:21, arriving at PEK at 17:33, with 11 passengers.\n",
            "Flight DKZ3042O departs from MIA at 17:05, arriving at SFO at 02:03, with 11 passengers.\n",
            "Flight QHU1140O departs from CDG at 17:14, arriving at LAS at 12:07, with 21 passengers.\n",
            "Flight ULZ8130D departs from CAN at 17:23, arriving at DFW at 21:26, with 27 passengers.\n",
            "Flight VYU9214I departs from ORD at 17:18, arriving at DXB at 18:28, with 15 passengers.\n",
            "Flight HZT2506M departs from IAH at 17:12, arriving at AMS at 10:36, with 14 passengers.\n",
            "Flight EWH6301Y departs from CAN at 17:22, arriving at DFW at 21:25, with 10 passengers.\n",
            "Flight VYW5940P departs from LAS at 17:26, arriving at SIN at 00:09, with 17 passengers.\n",
            "Flight WSK1289Z departs from CLT at 16:59, arriving at DEN at 21:37, with 21 passengers.\n",
            "Flight TMV7633W departs from CGK at 17:05, arriving at DXB at 07:14, with 15 passengers.\n",
            "Flight FYL5866L departs from ATL at 17:25, arriving at HKG at 22:36, with 20 passengers.\n",
            "Flight BER7172M departs from KUL at 17:26, arriving at LAS at 00:14, with 17 passengers.\n",
            "Flight JVY9791G departs from PVG at 17:16, arriving at FCO at 13:05, with 20 passengers.\n",
            "Flight VDC9164W departs from FCO at 17:18, arriving at LAS at 14:34, with 15 passengers.\n",
            "Flight KJR6646J departs from IAH at 17:26, arriving at BKK at 01:34, with 23 passengers.\n",
            "Flight YZO4444S departs from BKK at 17:28, arriving at MIA at 03:15, with 17 passengers.\n",
            "Flight XIL3623J departs from PEK at 17:13, arriving at LAX at 14:55, with 13 passengers.\n",
            "Flight RPG3351U departs from HND at 16:59, arriving at CAN at 23:13, with 13 passengers.\n",
            "Flight XOY7948U departs from ATL at 17:07, arriving at LHR at 07:44, with 16 passengers.\n"
          ]
        }
      ]
    },
    {
      "cell_type": "code",
      "source": [
        "from math import radians, cos, sin, asin, sqrt\n",
        "def Haversine(lat1, lon1, lat2, lon2):\n",
        "\n",
        "  ## convert inputs to radians\n",
        "  lat1 = radians(lat1)\n",
        "  lon1 = radians(lon1)\n",
        "  lat2 = radians(lat2)\n",
        "  lon2 = radians(lon2)\n",
        "\n",
        "  ## find differences betweeen inputs\n",
        "  dlon = lon2 - lon1\n",
        "  dlat = lat2 - lat1\n",
        "\n",
        "  ## haversine formula implementation:\n",
        "  a = sin(dlat/2)**2 + cos(lat1) * cos(lat2) * sin(dlon/2)**2\n",
        "  c = 2 * asin(sqrt(a)) \n",
        "  ## radius of earth to 10 decimal places (nautical miles)\n",
        "  r = 3443.9308855292\n",
        "\n",
        "  return c * r"
      ],
      "metadata": {
        "id": "Z2qlkTN2wwlS"
      },
      "execution_count": null,
      "outputs": []
    },
    {
      "cell_type": "code",
      "source": [
        "def getCoords(depCode, arrCode, listDict):\n",
        "  ## 4. map into a \"code to lat long function \" which checks the dictionary for the codes inputtted ##\n",
        "\n",
        "  ## where key depCode/arrCode, make list of values from dict\n",
        "  departLatLong = next(i[depCode] for i in listDict if depCode in i)\n",
        "  arrivalLatLong = next(i[arrCode] for i in listDict if arrCode in i)\n",
        "\n",
        "  ## return function call for values fed iteratively through getCoords function\n",
        "  return Haversine(departLatLong[0], departLatLong[1], arrivalLatLong[0], arrivalLatLong[1])"
      ],
      "metadata": {
        "id": "Eb-O-z8G5Kwx"
      },
      "execution_count": null,
      "outputs": []
    },
    {
      "cell_type": "code",
      "source": [
        "#########\n",
        "## 2.3 ##\tCalculate the line-of-sight (nautical) miles for each flight and the total travelled by each passenger \n",
        "######### and thus output the passenger having earned the highest air miles.\n",
        "\n",
        "## top30 dataset to list, then rdd\n",
        "listTop30 = airportCoords.values.tolist()\n",
        "rddTop30 = sc.parallelize(listTop30)\n",
        "\n",
        "## map coordinates, turns into dictionary\n",
        "dictionaryMap = rddTop30.map(lambda x : ( {x[1]: (x[2], x[3])} ))\n",
        "## turn dictionary into list\n",
        "listDict = dictionaryMap.collect()\n",
        "\n",
        "## create separate map for pass IDs and IATA codes\n",
        "mapPDA = rdd_pD.map(lambda x : (x[0], x[2], x[3]))\n",
        "\n",
        "## collate workings into a map\n",
        "anotherMap = mapPDA.map(lambda x : (x[0], getCoords(x[1], x[2], listDict)))\n",
        "\n",
        "## reduce to add up miles\n",
        "task3 = anotherMap.reduceByKey(lambda x1, x2 : x1 + x2)\n",
        "\n",
        "## sort inversely on index 1\n",
        "task3Final = task3.sortBy(lambda x : -x[1])\n",
        "\n",
        "## task 3 output:\n",
        "for i in task3Final.collect():\n",
        "  #print(i)   ## for raw output\n",
        "  print(f'Passenger {i[0]} accumulated {i[1]} nautical miles')"
      ],
      "metadata": {
        "colab": {
          "base_uri": "https://localhost:8080/"
        },
        "id": "hXlmhQUuujp-",
        "outputId": "0aad6a56-488d-47c3-afb1-f6d54f4fa390"
      },
      "execution_count": null,
      "outputs": [
        {
          "output_type": "stream",
          "name": "stdout",
          "text": [
            "Passenger UES9151GS5 accumulated 132026.8516084164 nautical miles\n",
            "Passenger BWI0520BG6 accumulated 124877.43077719095 nautical miles\n",
            "Passenger DAZ3029XA0 accumulated 123221.24192152942 nautical miles\n",
            "Passenger SPR4484HA6 accumulated 122395.49033551376 nautical miles\n",
            "Passenger PUD8209OG3 accumulated 115942.80142856004 nautical miles\n",
            "Passenger WBE6935NU3 accumulated 99270.6931500715 nautical miles\n",
            "Passenger HCA3158QA6 accumulated 97102.59986851209 nautical miles\n",
            "Passenger WYU2010YH8 accumulated 96844.57147002101 nautical miles\n",
            "Passenger JJM4724RF7 accumulated 93147.21911000309 nautical miles\n",
            "Passenger CKZ3132BR4 accumulated 92832.79793950269 nautical miles\n",
            "Passenger EZC9678QI6 accumulated 89419.94124146449 nautical miles\n",
            "Passenger LLZ3798PE3 accumulated 84190.57755153331 nautical miles\n",
            "Passenger HGO4350KK1 accumulated 81887.9219352002 nautical miles\n",
            "Passenger POP2875LH3 accumulated 81122.66332327103 nautical miles\n",
            "Passenger CXN7304ER2 accumulated 78832.6331209729 nautical miles\n",
            "Passenger YMH6360YP0 accumulated 76343.53544752272 nautical miles\n",
            "Passenger VZY2993ME1 accumulated 73773.0084819783 nautical miles\n",
            "Passenger EDV2089LK5 accumulated 70509.91998052782 nautical miles\n",
            "Passenger JBE2302VO4 accumulated 69079.99332739634 nautical miles\n",
            "Passenger SJD8775RZ4 accumulated 67526.64993984473 nautical miles\n",
            "Passenger XFG5747ZT9 accumulated 66495.08874440922 nautical miles\n",
            "Passenger CDC0302NN5 accumulated 63183.804415471124 nautical miles\n",
            "Passenger MXU9187YC7 accumulated 61108.84127858806 nautical miles\n",
            "Passenger WTC9125IE5 accumulated 59677.48335596712 nautical miles\n",
            "Passenger KKP5277HZ7 accumulated 58621.720671994444 nautical miles\n",
            "Passenger ONL0812DH1 accumulated 54287.14124382211 nautical miles\n",
            "Passenger CYJ0225CH1 accumulated 54253.08085093294 nautical miles\n",
            "Passenger IEG9308EA5 accumulated 42062.85490750052 nautical miles\n",
            "Passenger PIT2755XC1 accumulated 36117.04632723889 nautical miles\n",
            "Passenger PAJ3974RK1 accumulated 34267.70881103935 nautical miles\n",
            "Passenger UMH6360YP0 accumulated 3344.994467200869 nautical miles\n"
          ]
        }
      ]
    }
  ],
  "metadata": {
    "colab": {
      "provenance": [],
      "authorship_tag": "ABX9TyNGDD6GBLKKCJQo7sbFHdbg",
      "include_colab_link": true
    },
    "kernelspec": {
      "display_name": "Python 3",
      "name": "python3"
    },
    "language_info": {
      "name": "python"
    }
  },
  "nbformat": 4,
  "nbformat_minor": 0
}